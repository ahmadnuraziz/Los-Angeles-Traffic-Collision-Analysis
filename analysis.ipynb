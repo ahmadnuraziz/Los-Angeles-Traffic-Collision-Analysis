{
 "cells": [
  {
   "cell_type": "code",
   "execution_count": 211,
   "metadata": {
    "collapsed": true
   },
   "outputs": [],
   "source": [
    "import pandas as pd\n",
    "import numpy as np\n",
    "import matplotlib.pyplot as plt"
   ]
  },
  {
   "cell_type": "code",
   "execution_count": 212,
   "metadata": {
    "collapsed": true
   },
   "outputs": [],
   "source": [
    "data = pd.read_csv('traffic-collision-data-from-2010-to-present.csv')"
   ]
  },
  {
   "cell_type": "code",
   "execution_count": 213,
   "metadata": {
    "collapsed": false
   },
   "outputs": [
    {
     "data": {
      "text/html": [
       "<div>\n",
       "<table border=\"1\" class=\"dataframe\">\n",
       "  <thead>\n",
       "    <tr style=\"text-align: right;\">\n",
       "      <th></th>\n",
       "      <th>DR Number</th>\n",
       "      <th>Date Reported</th>\n",
       "      <th>Date Occurred</th>\n",
       "      <th>Time Occurred</th>\n",
       "      <th>Area ID</th>\n",
       "      <th>Area Name</th>\n",
       "      <th>Reporting District</th>\n",
       "      <th>Crime Code</th>\n",
       "      <th>Crime Code Description</th>\n",
       "      <th>MO Codes</th>\n",
       "      <th>...</th>\n",
       "      <th>Premise Description</th>\n",
       "      <th>Address</th>\n",
       "      <th>Cross Street</th>\n",
       "      <th>Location</th>\n",
       "      <th>Zip Codes</th>\n",
       "      <th>Census Tracts</th>\n",
       "      <th>Precinct Boundaries</th>\n",
       "      <th>LA Specific Plans</th>\n",
       "      <th>Council Districts</th>\n",
       "      <th>Neighborhood Councils (Certified)</th>\n",
       "    </tr>\n",
       "  </thead>\n",
       "  <tbody>\n",
       "    <tr>\n",
       "      <th>0</th>\n",
       "      <td>191713007</td>\n",
       "      <td>2019-07-20T00:00:00.000</td>\n",
       "      <td>2019-07-20T00:00:00.000</td>\n",
       "      <td>1040</td>\n",
       "      <td>17</td>\n",
       "      <td>Devonshire</td>\n",
       "      <td>1788</td>\n",
       "      <td>997</td>\n",
       "      <td>TRAFFIC COLLISION</td>\n",
       "      <td>NaN</td>\n",
       "      <td>...</td>\n",
       "      <td>STREET</td>\n",
       "      <td>BALBOA                       BL</td>\n",
       "      <td>PARTHENIA                    ST</td>\n",
       "      <td>{'latitude': '34.2285', 'human_address': '{\"ad...</td>\n",
       "      <td>18914.0</td>\n",
       "      <td>119.0</td>\n",
       "      <td>1424.0</td>\n",
       "      <td>NaN</td>\n",
       "      <td>2.0</td>\n",
       "      <td>65.0</td>\n",
       "    </tr>\n",
       "    <tr>\n",
       "      <th>1</th>\n",
       "      <td>191913696</td>\n",
       "      <td>2019-07-20T00:00:00.000</td>\n",
       "      <td>2019-07-20T00:00:00.000</td>\n",
       "      <td>850</td>\n",
       "      <td>19</td>\n",
       "      <td>Mission</td>\n",
       "      <td>1924</td>\n",
       "      <td>997</td>\n",
       "      <td>TRAFFIC COLLISION</td>\n",
       "      <td>NaN</td>\n",
       "      <td>...</td>\n",
       "      <td>STREET</td>\n",
       "      <td>CREST KNOLL                  AV</td>\n",
       "      <td>EDGECLIFF                    DR</td>\n",
       "      <td>{'latitude': '34.2905', 'human_address': '{\"ad...</td>\n",
       "      <td>18912.0</td>\n",
       "      <td>57.0</td>\n",
       "      <td>244.0</td>\n",
       "      <td>NaN</td>\n",
       "      <td>1.0</td>\n",
       "      <td>47.0</td>\n",
       "    </tr>\n",
       "    <tr>\n",
       "      <th>2</th>\n",
       "      <td>191611704</td>\n",
       "      <td>2019-07-20T00:00:00.000</td>\n",
       "      <td>2019-07-20T00:00:00.000</td>\n",
       "      <td>910</td>\n",
       "      <td>16</td>\n",
       "      <td>Foothill</td>\n",
       "      <td>1693</td>\n",
       "      <td>997</td>\n",
       "      <td>TRAFFIC COLLISION</td>\n",
       "      <td>NaN</td>\n",
       "      <td>...</td>\n",
       "      <td>STREET</td>\n",
       "      <td>SATICOY                      ST</td>\n",
       "      <td>LAURELGROVE                  AV</td>\n",
       "      <td>{'latitude': '34.2085', 'human_address': '{\"ad...</td>\n",
       "      <td>8888.0</td>\n",
       "      <td>153.0</td>\n",
       "      <td>472.0</td>\n",
       "      <td>NaN</td>\n",
       "      <td>5.0</td>\n",
       "      <td>14.0</td>\n",
       "    </tr>\n",
       "    <tr>\n",
       "      <th>3</th>\n",
       "      <td>191913694</td>\n",
       "      <td>2019-07-20T00:00:00.000</td>\n",
       "      <td>2019-07-20T00:00:00.000</td>\n",
       "      <td>700</td>\n",
       "      <td>19</td>\n",
       "      <td>Mission</td>\n",
       "      <td>1964</td>\n",
       "      <td>997</td>\n",
       "      <td>TRAFFIC COLLISION</td>\n",
       "      <td>NaN</td>\n",
       "      <td>...</td>\n",
       "      <td>STREET</td>\n",
       "      <td>TOBIAS                       AV</td>\n",
       "      <td>NORDHOFF                     ST</td>\n",
       "      <td>{'latitude': '34.2354', 'human_address': '{\"ad...</td>\n",
       "      <td>19730.0</td>\n",
       "      <td>134.0</td>\n",
       "      <td>417.0</td>\n",
       "      <td>NaN</td>\n",
       "      <td>3.0</td>\n",
       "      <td>59.0</td>\n",
       "    </tr>\n",
       "    <tr>\n",
       "      <th>4</th>\n",
       "      <td>191514323</td>\n",
       "      <td>2019-07-20T00:00:00.000</td>\n",
       "      <td>2019-07-20T00:00:00.000</td>\n",
       "      <td>1200</td>\n",
       "      <td>15</td>\n",
       "      <td>N Hollywood</td>\n",
       "      <td>1513</td>\n",
       "      <td>997</td>\n",
       "      <td>TRAFFIC COLLISION</td>\n",
       "      <td>NaN</td>\n",
       "      <td>...</td>\n",
       "      <td>STREET</td>\n",
       "      <td>SHERMAN                      WY</td>\n",
       "      <td>BELLAIRE                     AV</td>\n",
       "      <td>{'latitude': '34.2012', 'human_address': '{\"ad...</td>\n",
       "      <td>8888.0</td>\n",
       "      <td>180.0</td>\n",
       "      <td>1503.0</td>\n",
       "      <td>NaN</td>\n",
       "      <td>5.0</td>\n",
       "      <td>71.0</td>\n",
       "    </tr>\n",
       "  </tbody>\n",
       "</table>\n",
       "<p>5 rows × 24 columns</p>\n",
       "</div>"
      ],
      "text/plain": [
       "   DR Number            Date Reported            Date Occurred  Time Occurred  \\\n",
       "0  191713007  2019-07-20T00:00:00.000  2019-07-20T00:00:00.000           1040   \n",
       "1  191913696  2019-07-20T00:00:00.000  2019-07-20T00:00:00.000            850   \n",
       "2  191611704  2019-07-20T00:00:00.000  2019-07-20T00:00:00.000            910   \n",
       "3  191913694  2019-07-20T00:00:00.000  2019-07-20T00:00:00.000            700   \n",
       "4  191514323  2019-07-20T00:00:00.000  2019-07-20T00:00:00.000           1200   \n",
       "\n",
       "   Area ID    Area Name  Reporting District  Crime Code  \\\n",
       "0       17   Devonshire                1788         997   \n",
       "1       19      Mission                1924         997   \n",
       "2       16     Foothill                1693         997   \n",
       "3       19      Mission                1964         997   \n",
       "4       15  N Hollywood                1513         997   \n",
       "\n",
       "  Crime Code Description MO Codes                ...                  \\\n",
       "0      TRAFFIC COLLISION      NaN                ...                   \n",
       "1      TRAFFIC COLLISION      NaN                ...                   \n",
       "2      TRAFFIC COLLISION      NaN                ...                   \n",
       "3      TRAFFIC COLLISION      NaN                ...                   \n",
       "4      TRAFFIC COLLISION      NaN                ...                   \n",
       "\n",
       "   Premise Description                          Address  \\\n",
       "0               STREET  BALBOA                       BL   \n",
       "1               STREET  CREST KNOLL                  AV   \n",
       "2               STREET  SATICOY                      ST   \n",
       "3               STREET  TOBIAS                       AV   \n",
       "4               STREET  SHERMAN                      WY   \n",
       "\n",
       "                      Cross Street  \\\n",
       "0  PARTHENIA                    ST   \n",
       "1  EDGECLIFF                    DR   \n",
       "2  LAURELGROVE                  AV   \n",
       "3  NORDHOFF                     ST   \n",
       "4  BELLAIRE                     AV   \n",
       "\n",
       "                                            Location Zip Codes Census Tracts  \\\n",
       "0  {'latitude': '34.2285', 'human_address': '{\"ad...   18914.0         119.0   \n",
       "1  {'latitude': '34.2905', 'human_address': '{\"ad...   18912.0          57.0   \n",
       "2  {'latitude': '34.2085', 'human_address': '{\"ad...    8888.0         153.0   \n",
       "3  {'latitude': '34.2354', 'human_address': '{\"ad...   19730.0         134.0   \n",
       "4  {'latitude': '34.2012', 'human_address': '{\"ad...    8888.0         180.0   \n",
       "\n",
       "  Precinct Boundaries LA Specific Plans  Council Districts  \\\n",
       "0              1424.0               NaN                2.0   \n",
       "1               244.0               NaN                1.0   \n",
       "2               472.0               NaN                5.0   \n",
       "3               417.0               NaN                3.0   \n",
       "4              1503.0               NaN                5.0   \n",
       "\n",
       "   Neighborhood Councils (Certified)  \n",
       "0                               65.0  \n",
       "1                               47.0  \n",
       "2                               14.0  \n",
       "3                               59.0  \n",
       "4                               71.0  \n",
       "\n",
       "[5 rows x 24 columns]"
      ]
     },
     "execution_count": 213,
     "metadata": {},
     "output_type": "execute_result"
    }
   ],
   "source": [
    "data.head()"
   ]
  },
  {
   "cell_type": "code",
   "execution_count": 214,
   "metadata": {
    "collapsed": false
   },
   "outputs": [
    {
     "name": "stdout",
     "output_type": "stream",
     "text": [
      "<class 'pandas.core.frame.DataFrame'>\n",
      "RangeIndex: 481568 entries, 0 to 481567\n",
      "Data columns (total 24 columns):\n",
      "DR Number                            481568 non-null int64\n",
      "Date Reported                        481568 non-null object\n",
      "Date Occurred                        481568 non-null object\n",
      "Time Occurred                        481568 non-null int64\n",
      "Area ID                              481568 non-null int64\n",
      "Area Name                            481568 non-null object\n",
      "Reporting District                   481568 non-null int64\n",
      "Crime Code                           481568 non-null int64\n",
      "Crime Code Description               481568 non-null object\n",
      "MO Codes                             396722 non-null object\n",
      "Victim Age                           404022 non-null float64\n",
      "Victim Sex                           474522 non-null object\n",
      "Victim Descent                       473786 non-null object\n",
      "Premise Code                         481543 non-null float64\n",
      "Premise Description                  481543 non-null object\n",
      "Address                              481568 non-null object\n",
      "Cross Street                         460022 non-null object\n",
      "Location                             481568 non-null object\n",
      "Zip Codes                            481170 non-null float64\n",
      "Census Tracts                        475034 non-null float64\n",
      "Precinct Boundaries                  478481 non-null float64\n",
      "LA Specific Plans                    177239 non-null float64\n",
      "Council Districts                    475855 non-null float64\n",
      "Neighborhood Councils (Certified)    457495 non-null float64\n",
      "dtypes: float64(8), int64(5), object(11)\n",
      "memory usage: 88.2+ MB\n"
     ]
    }
   ],
   "source": [
    "data.info()"
   ]
  },
  {
   "cell_type": "markdown",
   "metadata": {},
   "source": [
    "#### LA Specific Plans and MO Codes column will be dropped because there are too many missing value"
   ]
  },
  {
   "cell_type": "code",
   "execution_count": 215,
   "metadata": {
    "collapsed": false
   },
   "outputs": [],
   "source": [
    "data.drop(['LA Specific Plans','MO Codes'],axis='columns',inplace=True)"
   ]
  },
  {
   "cell_type": "code",
   "execution_count": 216,
   "metadata": {
    "collapsed": false
   },
   "outputs": [],
   "source": [
    "data['Date Reported'] = pd.to_datetime(data['Date Reported'])"
   ]
  },
  {
   "cell_type": "code",
   "execution_count": 217,
   "metadata": {
    "collapsed": false
   },
   "outputs": [],
   "source": [
    "data['Time Occurred'] = data['Time Occurred'].apply(str)"
   ]
  },
  {
   "cell_type": "code",
   "execution_count": 218,
   "metadata": {
    "collapsed": false
   },
   "outputs": [],
   "source": [
    "for i in range(1,5):\n",
    "    if i == 4:\n",
    "        four = data.loc[data['Time Occurred'].str.len() == 4,'Time Occurred'].apply(lambda x: x[:2] + ':' + x[2:] )\n",
    "    elif i == 3:\n",
    "        three = data.loc[data['Time Occurred'].str.len() == 3,'Time Occurred'].apply(lambda x: '0' + x[0] + ':' + x[1:] )\n",
    "    elif i == 2:\n",
    "        two = data.loc[data['Time Occurred'].str.len() == 2,'Time Occurred'].apply(lambda x: '00' +  ':' + x[:] )\n",
    "    elif i == 1:\n",
    "        one = data.loc[data['Time Occurred'].str.len() == 1,'Time Occurred'].apply(lambda x: '00' + ':0' + x[:] )\n"
   ]
  },
  {
   "cell_type": "code",
   "execution_count": 219,
   "metadata": {
    "collapsed": false
   },
   "outputs": [],
   "source": [
    "one = pd.DataFrame(one)\n",
    "two = pd.DataFrame(two)\n",
    "three = pd.DataFrame(three)\n",
    "four = pd.DataFrame(four)\n",
    "time_occurred = pd.concat([one,two,three,four]).sort_index()"
   ]
  },
  {
   "cell_type": "code",
   "execution_count": 220,
   "metadata": {
    "collapsed": false
   },
   "outputs": [],
   "source": [
    "data['Time Occurred'] = time_occurred"
   ]
  },
  {
   "cell_type": "code",
   "execution_count": 221,
   "metadata": {
    "collapsed": true
   },
   "outputs": [],
   "source": [
    "data['Date Occurred'] = data['Date Occurred'].str.replace('T00:00:00.000','')"
   ]
  },
  {
   "cell_type": "code",
   "execution_count": 222,
   "metadata": {
    "collapsed": false
   },
   "outputs": [
    {
     "data": {
      "text/html": [
       "<div>\n",
       "<table border=\"1\" class=\"dataframe\">\n",
       "  <thead>\n",
       "    <tr style=\"text-align: right;\">\n",
       "      <th></th>\n",
       "      <th>DR Number</th>\n",
       "      <th>Date Reported</th>\n",
       "      <th>Date Occurred</th>\n",
       "      <th>Time Occurred</th>\n",
       "      <th>Area ID</th>\n",
       "      <th>Area Name</th>\n",
       "      <th>Reporting District</th>\n",
       "      <th>Crime Code</th>\n",
       "      <th>Crime Code Description</th>\n",
       "      <th>Victim Age</th>\n",
       "      <th>...</th>\n",
       "      <th>Premise Code</th>\n",
       "      <th>Premise Description</th>\n",
       "      <th>Address</th>\n",
       "      <th>Cross Street</th>\n",
       "      <th>Location</th>\n",
       "      <th>Zip Codes</th>\n",
       "      <th>Census Tracts</th>\n",
       "      <th>Precinct Boundaries</th>\n",
       "      <th>Council Districts</th>\n",
       "      <th>Neighborhood Councils (Certified)</th>\n",
       "    </tr>\n",
       "  </thead>\n",
       "  <tbody>\n",
       "    <tr>\n",
       "      <th>0</th>\n",
       "      <td>191713007</td>\n",
       "      <td>2019-07-20</td>\n",
       "      <td>2019-07-20</td>\n",
       "      <td>10:40</td>\n",
       "      <td>17</td>\n",
       "      <td>Devonshire</td>\n",
       "      <td>1788</td>\n",
       "      <td>997</td>\n",
       "      <td>TRAFFIC COLLISION</td>\n",
       "      <td>32.0</td>\n",
       "      <td>...</td>\n",
       "      <td>101.0</td>\n",
       "      <td>STREET</td>\n",
       "      <td>BALBOA                       BL</td>\n",
       "      <td>PARTHENIA                    ST</td>\n",
       "      <td>{'latitude': '34.2285', 'human_address': '{\"ad...</td>\n",
       "      <td>18914.0</td>\n",
       "      <td>119.0</td>\n",
       "      <td>1424.0</td>\n",
       "      <td>2.0</td>\n",
       "      <td>65.0</td>\n",
       "    </tr>\n",
       "    <tr>\n",
       "      <th>1</th>\n",
       "      <td>191913696</td>\n",
       "      <td>2019-07-20</td>\n",
       "      <td>2019-07-20</td>\n",
       "      <td>08:50</td>\n",
       "      <td>19</td>\n",
       "      <td>Mission</td>\n",
       "      <td>1924</td>\n",
       "      <td>997</td>\n",
       "      <td>TRAFFIC COLLISION</td>\n",
       "      <td>50.0</td>\n",
       "      <td>...</td>\n",
       "      <td>101.0</td>\n",
       "      <td>STREET</td>\n",
       "      <td>CREST KNOLL                  AV</td>\n",
       "      <td>EDGECLIFF                    DR</td>\n",
       "      <td>{'latitude': '34.2905', 'human_address': '{\"ad...</td>\n",
       "      <td>18912.0</td>\n",
       "      <td>57.0</td>\n",
       "      <td>244.0</td>\n",
       "      <td>1.0</td>\n",
       "      <td>47.0</td>\n",
       "    </tr>\n",
       "    <tr>\n",
       "      <th>2</th>\n",
       "      <td>191611704</td>\n",
       "      <td>2019-07-20</td>\n",
       "      <td>2019-07-20</td>\n",
       "      <td>09:10</td>\n",
       "      <td>16</td>\n",
       "      <td>Foothill</td>\n",
       "      <td>1693</td>\n",
       "      <td>997</td>\n",
       "      <td>TRAFFIC COLLISION</td>\n",
       "      <td>75.0</td>\n",
       "      <td>...</td>\n",
       "      <td>101.0</td>\n",
       "      <td>STREET</td>\n",
       "      <td>SATICOY                      ST</td>\n",
       "      <td>LAURELGROVE                  AV</td>\n",
       "      <td>{'latitude': '34.2085', 'human_address': '{\"ad...</td>\n",
       "      <td>8888.0</td>\n",
       "      <td>153.0</td>\n",
       "      <td>472.0</td>\n",
       "      <td>5.0</td>\n",
       "      <td>14.0</td>\n",
       "    </tr>\n",
       "    <tr>\n",
       "      <th>3</th>\n",
       "      <td>191913694</td>\n",
       "      <td>2019-07-20</td>\n",
       "      <td>2019-07-20</td>\n",
       "      <td>07:00</td>\n",
       "      <td>19</td>\n",
       "      <td>Mission</td>\n",
       "      <td>1964</td>\n",
       "      <td>997</td>\n",
       "      <td>TRAFFIC COLLISION</td>\n",
       "      <td>40.0</td>\n",
       "      <td>...</td>\n",
       "      <td>101.0</td>\n",
       "      <td>STREET</td>\n",
       "      <td>TOBIAS                       AV</td>\n",
       "      <td>NORDHOFF                     ST</td>\n",
       "      <td>{'latitude': '34.2354', 'human_address': '{\"ad...</td>\n",
       "      <td>19730.0</td>\n",
       "      <td>134.0</td>\n",
       "      <td>417.0</td>\n",
       "      <td>3.0</td>\n",
       "      <td>59.0</td>\n",
       "    </tr>\n",
       "    <tr>\n",
       "      <th>4</th>\n",
       "      <td>191514323</td>\n",
       "      <td>2019-07-20</td>\n",
       "      <td>2019-07-20</td>\n",
       "      <td>12:00</td>\n",
       "      <td>15</td>\n",
       "      <td>N Hollywood</td>\n",
       "      <td>1513</td>\n",
       "      <td>997</td>\n",
       "      <td>TRAFFIC COLLISION</td>\n",
       "      <td>27.0</td>\n",
       "      <td>...</td>\n",
       "      <td>101.0</td>\n",
       "      <td>STREET</td>\n",
       "      <td>SHERMAN                      WY</td>\n",
       "      <td>BELLAIRE                     AV</td>\n",
       "      <td>{'latitude': '34.2012', 'human_address': '{\"ad...</td>\n",
       "      <td>8888.0</td>\n",
       "      <td>180.0</td>\n",
       "      <td>1503.0</td>\n",
       "      <td>5.0</td>\n",
       "      <td>71.0</td>\n",
       "    </tr>\n",
       "  </tbody>\n",
       "</table>\n",
       "<p>5 rows × 22 columns</p>\n",
       "</div>"
      ],
      "text/plain": [
       "   DR Number Date Reported Date Occurred Time Occurred  Area ID    Area Name  \\\n",
       "0  191713007    2019-07-20    2019-07-20         10:40       17   Devonshire   \n",
       "1  191913696    2019-07-20    2019-07-20         08:50       19      Mission   \n",
       "2  191611704    2019-07-20    2019-07-20         09:10       16     Foothill   \n",
       "3  191913694    2019-07-20    2019-07-20         07:00       19      Mission   \n",
       "4  191514323    2019-07-20    2019-07-20         12:00       15  N Hollywood   \n",
       "\n",
       "   Reporting District  Crime Code Crime Code Description  Victim Age  \\\n",
       "0                1788         997      TRAFFIC COLLISION        32.0   \n",
       "1                1924         997      TRAFFIC COLLISION        50.0   \n",
       "2                1693         997      TRAFFIC COLLISION        75.0   \n",
       "3                1964         997      TRAFFIC COLLISION        40.0   \n",
       "4                1513         997      TRAFFIC COLLISION        27.0   \n",
       "\n",
       "                 ...                 Premise Code Premise Description  \\\n",
       "0                ...                        101.0              STREET   \n",
       "1                ...                        101.0              STREET   \n",
       "2                ...                        101.0              STREET   \n",
       "3                ...                        101.0              STREET   \n",
       "4                ...                        101.0              STREET   \n",
       "\n",
       "                           Address                     Cross Street  \\\n",
       "0  BALBOA                       BL  PARTHENIA                    ST   \n",
       "1  CREST KNOLL                  AV  EDGECLIFF                    DR   \n",
       "2  SATICOY                      ST  LAURELGROVE                  AV   \n",
       "3  TOBIAS                       AV  NORDHOFF                     ST   \n",
       "4  SHERMAN                      WY  BELLAIRE                     AV   \n",
       "\n",
       "                                            Location Zip Codes Census Tracts  \\\n",
       "0  {'latitude': '34.2285', 'human_address': '{\"ad...   18914.0         119.0   \n",
       "1  {'latitude': '34.2905', 'human_address': '{\"ad...   18912.0          57.0   \n",
       "2  {'latitude': '34.2085', 'human_address': '{\"ad...    8888.0         153.0   \n",
       "3  {'latitude': '34.2354', 'human_address': '{\"ad...   19730.0         134.0   \n",
       "4  {'latitude': '34.2012', 'human_address': '{\"ad...    8888.0         180.0   \n",
       "\n",
       "   Precinct Boundaries  Council Districts  Neighborhood Councils (Certified)  \n",
       "0               1424.0                2.0                               65.0  \n",
       "1                244.0                1.0                               47.0  \n",
       "2                472.0                5.0                               14.0  \n",
       "3                417.0                3.0                               59.0  \n",
       "4               1503.0                5.0                               71.0  \n",
       "\n",
       "[5 rows x 22 columns]"
      ]
     },
     "execution_count": 222,
     "metadata": {},
     "output_type": "execute_result"
    }
   ],
   "source": [
    "data.head()"
   ]
  },
  {
   "cell_type": "code",
   "execution_count": 223,
   "metadata": {
    "collapsed": false
   },
   "outputs": [],
   "source": [
    "data['Date Occurred'] = pd.to_datetime(data['Date Occurred'].str.cat(data['Time Occurred'],sep=' '))"
   ]
  },
  {
   "cell_type": "code",
   "execution_count": 224,
   "metadata": {
    "collapsed": false
   },
   "outputs": [
    {
     "data": {
      "text/html": [
       "<div>\n",
       "<table border=\"1\" class=\"dataframe\">\n",
       "  <thead>\n",
       "    <tr style=\"text-align: right;\">\n",
       "      <th></th>\n",
       "      <th>DR Number</th>\n",
       "      <th>Date Reported</th>\n",
       "      <th>Date Occurred</th>\n",
       "      <th>Time Occurred</th>\n",
       "      <th>Area ID</th>\n",
       "      <th>Area Name</th>\n",
       "      <th>Reporting District</th>\n",
       "      <th>Crime Code</th>\n",
       "      <th>Crime Code Description</th>\n",
       "      <th>Victim Age</th>\n",
       "      <th>...</th>\n",
       "      <th>Premise Code</th>\n",
       "      <th>Premise Description</th>\n",
       "      <th>Address</th>\n",
       "      <th>Cross Street</th>\n",
       "      <th>Location</th>\n",
       "      <th>Zip Codes</th>\n",
       "      <th>Census Tracts</th>\n",
       "      <th>Precinct Boundaries</th>\n",
       "      <th>Council Districts</th>\n",
       "      <th>Neighborhood Councils (Certified)</th>\n",
       "    </tr>\n",
       "  </thead>\n",
       "  <tbody>\n",
       "    <tr>\n",
       "      <th>0</th>\n",
       "      <td>191713007</td>\n",
       "      <td>2019-07-20</td>\n",
       "      <td>2019-07-20 10:40:00</td>\n",
       "      <td>10:40</td>\n",
       "      <td>17</td>\n",
       "      <td>Devonshire</td>\n",
       "      <td>1788</td>\n",
       "      <td>997</td>\n",
       "      <td>TRAFFIC COLLISION</td>\n",
       "      <td>32.0</td>\n",
       "      <td>...</td>\n",
       "      <td>101.0</td>\n",
       "      <td>STREET</td>\n",
       "      <td>BALBOA                       BL</td>\n",
       "      <td>PARTHENIA                    ST</td>\n",
       "      <td>{'latitude': '34.2285', 'human_address': '{\"ad...</td>\n",
       "      <td>18914.0</td>\n",
       "      <td>119.0</td>\n",
       "      <td>1424.0</td>\n",
       "      <td>2.0</td>\n",
       "      <td>65.0</td>\n",
       "    </tr>\n",
       "    <tr>\n",
       "      <th>1</th>\n",
       "      <td>191913696</td>\n",
       "      <td>2019-07-20</td>\n",
       "      <td>2019-07-20 08:50:00</td>\n",
       "      <td>08:50</td>\n",
       "      <td>19</td>\n",
       "      <td>Mission</td>\n",
       "      <td>1924</td>\n",
       "      <td>997</td>\n",
       "      <td>TRAFFIC COLLISION</td>\n",
       "      <td>50.0</td>\n",
       "      <td>...</td>\n",
       "      <td>101.0</td>\n",
       "      <td>STREET</td>\n",
       "      <td>CREST KNOLL                  AV</td>\n",
       "      <td>EDGECLIFF                    DR</td>\n",
       "      <td>{'latitude': '34.2905', 'human_address': '{\"ad...</td>\n",
       "      <td>18912.0</td>\n",
       "      <td>57.0</td>\n",
       "      <td>244.0</td>\n",
       "      <td>1.0</td>\n",
       "      <td>47.0</td>\n",
       "    </tr>\n",
       "    <tr>\n",
       "      <th>2</th>\n",
       "      <td>191611704</td>\n",
       "      <td>2019-07-20</td>\n",
       "      <td>2019-07-20 09:10:00</td>\n",
       "      <td>09:10</td>\n",
       "      <td>16</td>\n",
       "      <td>Foothill</td>\n",
       "      <td>1693</td>\n",
       "      <td>997</td>\n",
       "      <td>TRAFFIC COLLISION</td>\n",
       "      <td>75.0</td>\n",
       "      <td>...</td>\n",
       "      <td>101.0</td>\n",
       "      <td>STREET</td>\n",
       "      <td>SATICOY                      ST</td>\n",
       "      <td>LAURELGROVE                  AV</td>\n",
       "      <td>{'latitude': '34.2085', 'human_address': '{\"ad...</td>\n",
       "      <td>8888.0</td>\n",
       "      <td>153.0</td>\n",
       "      <td>472.0</td>\n",
       "      <td>5.0</td>\n",
       "      <td>14.0</td>\n",
       "    </tr>\n",
       "    <tr>\n",
       "      <th>3</th>\n",
       "      <td>191913694</td>\n",
       "      <td>2019-07-20</td>\n",
       "      <td>2019-07-20 07:00:00</td>\n",
       "      <td>07:00</td>\n",
       "      <td>19</td>\n",
       "      <td>Mission</td>\n",
       "      <td>1964</td>\n",
       "      <td>997</td>\n",
       "      <td>TRAFFIC COLLISION</td>\n",
       "      <td>40.0</td>\n",
       "      <td>...</td>\n",
       "      <td>101.0</td>\n",
       "      <td>STREET</td>\n",
       "      <td>TOBIAS                       AV</td>\n",
       "      <td>NORDHOFF                     ST</td>\n",
       "      <td>{'latitude': '34.2354', 'human_address': '{\"ad...</td>\n",
       "      <td>19730.0</td>\n",
       "      <td>134.0</td>\n",
       "      <td>417.0</td>\n",
       "      <td>3.0</td>\n",
       "      <td>59.0</td>\n",
       "    </tr>\n",
       "    <tr>\n",
       "      <th>4</th>\n",
       "      <td>191514323</td>\n",
       "      <td>2019-07-20</td>\n",
       "      <td>2019-07-20 12:00:00</td>\n",
       "      <td>12:00</td>\n",
       "      <td>15</td>\n",
       "      <td>N Hollywood</td>\n",
       "      <td>1513</td>\n",
       "      <td>997</td>\n",
       "      <td>TRAFFIC COLLISION</td>\n",
       "      <td>27.0</td>\n",
       "      <td>...</td>\n",
       "      <td>101.0</td>\n",
       "      <td>STREET</td>\n",
       "      <td>SHERMAN                      WY</td>\n",
       "      <td>BELLAIRE                     AV</td>\n",
       "      <td>{'latitude': '34.2012', 'human_address': '{\"ad...</td>\n",
       "      <td>8888.0</td>\n",
       "      <td>180.0</td>\n",
       "      <td>1503.0</td>\n",
       "      <td>5.0</td>\n",
       "      <td>71.0</td>\n",
       "    </tr>\n",
       "  </tbody>\n",
       "</table>\n",
       "<p>5 rows × 22 columns</p>\n",
       "</div>"
      ],
      "text/plain": [
       "   DR Number Date Reported       Date Occurred Time Occurred  Area ID  \\\n",
       "0  191713007    2019-07-20 2019-07-20 10:40:00         10:40       17   \n",
       "1  191913696    2019-07-20 2019-07-20 08:50:00         08:50       19   \n",
       "2  191611704    2019-07-20 2019-07-20 09:10:00         09:10       16   \n",
       "3  191913694    2019-07-20 2019-07-20 07:00:00         07:00       19   \n",
       "4  191514323    2019-07-20 2019-07-20 12:00:00         12:00       15   \n",
       "\n",
       "     Area Name  Reporting District  Crime Code Crime Code Description  \\\n",
       "0   Devonshire                1788         997      TRAFFIC COLLISION   \n",
       "1      Mission                1924         997      TRAFFIC COLLISION   \n",
       "2     Foothill                1693         997      TRAFFIC COLLISION   \n",
       "3      Mission                1964         997      TRAFFIC COLLISION   \n",
       "4  N Hollywood                1513         997      TRAFFIC COLLISION   \n",
       "\n",
       "   Victim Age                ...                 Premise Code  \\\n",
       "0        32.0                ...                        101.0   \n",
       "1        50.0                ...                        101.0   \n",
       "2        75.0                ...                        101.0   \n",
       "3        40.0                ...                        101.0   \n",
       "4        27.0                ...                        101.0   \n",
       "\n",
       "  Premise Description                          Address  \\\n",
       "0              STREET  BALBOA                       BL   \n",
       "1              STREET  CREST KNOLL                  AV   \n",
       "2              STREET  SATICOY                      ST   \n",
       "3              STREET  TOBIAS                       AV   \n",
       "4              STREET  SHERMAN                      WY   \n",
       "\n",
       "                      Cross Street  \\\n",
       "0  PARTHENIA                    ST   \n",
       "1  EDGECLIFF                    DR   \n",
       "2  LAURELGROVE                  AV   \n",
       "3  NORDHOFF                     ST   \n",
       "4  BELLAIRE                     AV   \n",
       "\n",
       "                                            Location Zip Codes Census Tracts  \\\n",
       "0  {'latitude': '34.2285', 'human_address': '{\"ad...   18914.0         119.0   \n",
       "1  {'latitude': '34.2905', 'human_address': '{\"ad...   18912.0          57.0   \n",
       "2  {'latitude': '34.2085', 'human_address': '{\"ad...    8888.0         153.0   \n",
       "3  {'latitude': '34.2354', 'human_address': '{\"ad...   19730.0         134.0   \n",
       "4  {'latitude': '34.2012', 'human_address': '{\"ad...    8888.0         180.0   \n",
       "\n",
       "   Precinct Boundaries  Council Districts  Neighborhood Councils (Certified)  \n",
       "0               1424.0                2.0                               65.0  \n",
       "1                244.0                1.0                               47.0  \n",
       "2                472.0                5.0                               14.0  \n",
       "3                417.0                3.0                               59.0  \n",
       "4               1503.0                5.0                               71.0  \n",
       "\n",
       "[5 rows x 22 columns]"
      ]
     },
     "execution_count": 224,
     "metadata": {},
     "output_type": "execute_result"
    }
   ],
   "source": [
    "data.head()"
   ]
  },
  {
   "cell_type": "code",
   "execution_count": 225,
   "metadata": {
    "collapsed": true
   },
   "outputs": [],
   "source": [
    "data.drop(['Area ID','Premise Code','Census Tracts','Precinct Boundaries','Council Districts','Neighborhood Councils (Certified)'\n",
    "          ,'Crime Code','Crime Code Description','Time Occurred'],axis=1,inplace=True)"
   ]
  },
  {
   "cell_type": "code",
   "execution_count": 226,
   "metadata": {
    "collapsed": false
   },
   "outputs": [
    {
     "name": "stdout",
     "output_type": "stream",
     "text": [
      "<class 'pandas.core.frame.DataFrame'>\n",
      "RangeIndex: 481568 entries, 0 to 481567\n",
      "Data columns (total 14 columns):\n",
      "DR Number              481568 non-null int64\n",
      "Date Reported          481568 non-null datetime64[ns]\n",
      "Date Occurred          481568 non-null datetime64[ns]\n",
      "Time Occurred          481568 non-null object\n",
      "Area Name              481568 non-null object\n",
      "Reporting District     481568 non-null int64\n",
      "Victim Age             404022 non-null float64\n",
      "Victim Sex             474522 non-null object\n",
      "Victim Descent         473786 non-null object\n",
      "Premise Description    481543 non-null object\n",
      "Address                481568 non-null object\n",
      "Cross Street           460022 non-null object\n",
      "Location               481568 non-null object\n",
      "Zip Codes              481170 non-null float64\n",
      "dtypes: datetime64[ns](2), float64(2), int64(2), object(8)\n",
      "memory usage: 51.4+ MB\n"
     ]
    }
   ],
   "source": [
    "data.info()"
   ]
  },
  {
   "cell_type": "code",
   "execution_count": null,
   "metadata": {
    "collapsed": true
   },
   "outputs": [],
   "source": []
  },
  {
   "cell_type": "code",
   "execution_count": 227,
   "metadata": {
    "collapsed": false
   },
   "outputs": [
    {
     "data": {
      "text/plain": [
       "array(['F', 'M', 'X', nan, 'N', 'H'], dtype=object)"
      ]
     },
     "execution_count": 227,
     "metadata": {},
     "output_type": "execute_result"
    }
   ],
   "source": [
    "data['Victim Sex'].unique()"
   ]
  },
  {
   "cell_type": "code",
   "execution_count": 228,
   "metadata": {
    "collapsed": false
   },
   "outputs": [],
   "source": [
    "data.loc[data['Victim Sex'].isnull(),'Victim Sex'] = 'X'\n",
    "data.loc[data['Victim Sex']=='N','Victim Sex'] = 'X'\n",
    "data.loc[data['Victim Sex']=='H','Victim Sex'] = 'X'"
   ]
  },
  {
   "cell_type": "code",
   "execution_count": 229,
   "metadata": {
    "collapsed": false
   },
   "outputs": [],
   "source": [
    "data['Victim Sex'] = data['Victim Sex'].astype('category',categories=['F','M','X'])"
   ]
  },
  {
   "cell_type": "code",
   "execution_count": 230,
   "metadata": {
    "collapsed": false
   },
   "outputs": [
    {
     "data": {
      "text/html": [
       "<div>\n",
       "<table border=\"1\" class=\"dataframe\">\n",
       "  <thead>\n",
       "    <tr style=\"text-align: right;\">\n",
       "      <th></th>\n",
       "      <th>DR Number</th>\n",
       "      <th>Reporting District</th>\n",
       "      <th>Victim Age</th>\n",
       "      <th>Zip Codes</th>\n",
       "    </tr>\n",
       "  </thead>\n",
       "  <tbody>\n",
       "    <tr>\n",
       "      <th>count</th>\n",
       "      <td>4.815680e+05</td>\n",
       "      <td>481568.000000</td>\n",
       "      <td>404022.000000</td>\n",
       "      <td>481170.000000</td>\n",
       "    </tr>\n",
       "    <tr>\n",
       "      <th>mean</th>\n",
       "      <td>1.466924e+08</td>\n",
       "      <td>1153.043846</td>\n",
       "      <td>41.547139</td>\n",
       "      <td>20174.714513</td>\n",
       "    </tr>\n",
       "    <tr>\n",
       "      <th>std</th>\n",
       "      <td>2.762947e+07</td>\n",
       "      <td>588.979929</td>\n",
       "      <td>16.197300</td>\n",
       "      <td>6025.297527</td>\n",
       "    </tr>\n",
       "    <tr>\n",
       "      <th>min</th>\n",
       "      <td>1.001000e+08</td>\n",
       "      <td>100.000000</td>\n",
       "      <td>10.000000</td>\n",
       "      <td>2436.000000</td>\n",
       "    </tr>\n",
       "    <tr>\n",
       "      <th>25%</th>\n",
       "      <td>1.214262e+08</td>\n",
       "      <td>666.000000</td>\n",
       "      <td>29.000000</td>\n",
       "      <td>19339.000000</td>\n",
       "    </tr>\n",
       "    <tr>\n",
       "      <th>50%</th>\n",
       "      <td>1.506238e+08</td>\n",
       "      <td>1149.000000</td>\n",
       "      <td>39.000000</td>\n",
       "      <td>23074.000000</td>\n",
       "    </tr>\n",
       "    <tr>\n",
       "      <th>75%</th>\n",
       "      <td>1.710118e+08</td>\n",
       "      <td>1651.000000</td>\n",
       "      <td>51.000000</td>\n",
       "      <td>23668.000000</td>\n",
       "    </tr>\n",
       "    <tr>\n",
       "      <th>max</th>\n",
       "      <td>1.921131e+08</td>\n",
       "      <td>2199.000000</td>\n",
       "      <td>99.000000</td>\n",
       "      <td>27324.000000</td>\n",
       "    </tr>\n",
       "  </tbody>\n",
       "</table>\n",
       "</div>"
      ],
      "text/plain": [
       "          DR Number  Reporting District     Victim Age      Zip Codes\n",
       "count  4.815680e+05       481568.000000  404022.000000  481170.000000\n",
       "mean   1.466924e+08         1153.043846      41.547139   20174.714513\n",
       "std    2.762947e+07          588.979929      16.197300    6025.297527\n",
       "min    1.001000e+08          100.000000      10.000000    2436.000000\n",
       "25%    1.214262e+08          666.000000      29.000000   19339.000000\n",
       "50%    1.506238e+08         1149.000000      39.000000   23074.000000\n",
       "75%    1.710118e+08         1651.000000      51.000000   23668.000000\n",
       "max    1.921131e+08         2199.000000      99.000000   27324.000000"
      ]
     },
     "execution_count": 230,
     "metadata": {},
     "output_type": "execute_result"
    }
   ],
   "source": [
    "data.describe()"
   ]
  },
  {
   "cell_type": "code",
   "execution_count": 231,
   "metadata": {
    "collapsed": false
   },
   "outputs": [
    {
     "data": {
      "image/png": "[encoded data removed]",
      "text/plain": [
       "<matplotlib.figure.Figure at 0x18a241fbba8>"
      ]
     },
     "metadata": {},
     "output_type": "display_data"
    }
   ],
   "source": [
    "data['Victim Age'].plot(kind='box')\n",
    "plt.show()"
   ]
  },
  {
   "cell_type": "code",
   "execution_count": 232,
   "metadata": {
    "collapsed": true
   },
   "outputs": [],
   "source": [
    "data['Victim Age'] = data['Victim Age'].fillna(data['Victim Age'].median())"
   ]
  },
  {
   "cell_type": "code",
   "execution_count": 233,
   "metadata": {
    "collapsed": false
   },
   "outputs": [
    {
     "data": {
      "image/png": "[encoded data removed]",
      "text/plain": [
       "<matplotlib.figure.Figure at 0x18a3b0f6c88>"
      ]
     },
     "metadata": {},
     "output_type": "display_data"
    }
   ],
   "source": [
    "data['Victim Descent'].dropna().value_counts().plot(kind='bar')\n",
    "plt.show()"
   ]
  },
  {
   "cell_type": "code",
   "execution_count": 234,
   "metadata": {
    "collapsed": true
   },
   "outputs": [],
   "source": [
    "data['Victim Descent'] = data['Victim Descent'].fillna('Z')"
   ]
  },
  {
   "cell_type": "code",
   "execution_count": 235,
   "metadata": {
    "collapsed": false
   },
   "outputs": [
    {
     "name": "stdout",
     "output_type": "stream",
     "text": [
      "<class 'pandas.core.frame.DataFrame'>\n",
      "RangeIndex: 481568 entries, 0 to 481567\n",
      "Data columns (total 14 columns):\n",
      "DR Number              481568 non-null int64\n",
      "Date Reported          481568 non-null datetime64[ns]\n",
      "Date Occurred          481568 non-null datetime64[ns]\n",
      "Time Occurred          481568 non-null object\n",
      "Area Name              481568 non-null object\n",
      "Reporting District     481568 non-null int64\n",
      "Victim Age             481568 non-null float64\n",
      "Victim Sex             481568 non-null category\n",
      "Victim Descent         481568 non-null object\n",
      "Premise Description    481543 non-null object\n",
      "Address                481568 non-null object\n",
      "Cross Street           460022 non-null object\n",
      "Location               481568 non-null object\n",
      "Zip Codes              481170 non-null float64\n",
      "dtypes: category(1), datetime64[ns](2), float64(2), int64(2), object(7)\n",
      "memory usage: 48.2+ MB\n"
     ]
    }
   ],
   "source": [
    "data.info()"
   ]
  },
  {
   "cell_type": "code",
   "execution_count": 236,
   "metadata": {
    "collapsed": true
   },
   "outputs": [],
   "source": [
    "cleaned_data = data.dropna()"
   ]
  },
  {
   "cell_type": "code",
   "execution_count": 237,
   "metadata": {
    "collapsed": false
   },
   "outputs": [
    {
     "data": {
      "text/html": [
       "<div>\n",
       "<table border=\"1\" class=\"dataframe\">\n",
       "  <thead>\n",
       "    <tr style=\"text-align: right;\">\n",
       "      <th></th>\n",
       "      <th>DR Number</th>\n",
       "      <th>Date Reported</th>\n",
       "      <th>Date Occurred</th>\n",
       "      <th>Time Occurred</th>\n",
       "      <th>Area Name</th>\n",
       "      <th>Reporting District</th>\n",
       "      <th>Victim Age</th>\n",
       "      <th>Victim Sex</th>\n",
       "      <th>Victim Descent</th>\n",
       "      <th>Premise Description</th>\n",
       "      <th>Address</th>\n",
       "      <th>Cross Street</th>\n",
       "      <th>Location</th>\n",
       "      <th>Zip Codes</th>\n",
       "    </tr>\n",
       "  </thead>\n",
       "  <tbody>\n",
       "    <tr>\n",
       "      <th>0</th>\n",
       "      <td>191713007</td>\n",
       "      <td>2019-07-20</td>\n",
       "      <td>2019-07-20 10:40:00</td>\n",
       "      <td>10:40</td>\n",
       "      <td>Devonshire</td>\n",
       "      <td>1788</td>\n",
       "      <td>32.0</td>\n",
       "      <td>F</td>\n",
       "      <td>W</td>\n",
       "      <td>STREET</td>\n",
       "      <td>BALBOA                       BL</td>\n",
       "      <td>PARTHENIA                    ST</td>\n",
       "      <td>{'latitude': '34.2285', 'human_address': '{\"ad...</td>\n",
       "      <td>18914.0</td>\n",
       "    </tr>\n",
       "    <tr>\n",
       "      <th>1</th>\n",
       "      <td>191913696</td>\n",
       "      <td>2019-07-20</td>\n",
       "      <td>2019-07-20 08:50:00</td>\n",
       "      <td>08:50</td>\n",
       "      <td>Mission</td>\n",
       "      <td>1924</td>\n",
       "      <td>50.0</td>\n",
       "      <td>M</td>\n",
       "      <td>O</td>\n",
       "      <td>STREET</td>\n",
       "      <td>CREST KNOLL                  AV</td>\n",
       "      <td>EDGECLIFF                    DR</td>\n",
       "      <td>{'latitude': '34.2905', 'human_address': '{\"ad...</td>\n",
       "      <td>18912.0</td>\n",
       "    </tr>\n",
       "    <tr>\n",
       "      <th>2</th>\n",
       "      <td>191611704</td>\n",
       "      <td>2019-07-20</td>\n",
       "      <td>2019-07-20 09:10:00</td>\n",
       "      <td>09:10</td>\n",
       "      <td>Foothill</td>\n",
       "      <td>1693</td>\n",
       "      <td>75.0</td>\n",
       "      <td>M</td>\n",
       "      <td>O</td>\n",
       "      <td>STREET</td>\n",
       "      <td>SATICOY                      ST</td>\n",
       "      <td>LAURELGROVE                  AV</td>\n",
       "      <td>{'latitude': '34.2085', 'human_address': '{\"ad...</td>\n",
       "      <td>8888.0</td>\n",
       "    </tr>\n",
       "    <tr>\n",
       "      <th>3</th>\n",
       "      <td>191913694</td>\n",
       "      <td>2019-07-20</td>\n",
       "      <td>2019-07-20 07:00:00</td>\n",
       "      <td>07:00</td>\n",
       "      <td>Mission</td>\n",
       "      <td>1964</td>\n",
       "      <td>40.0</td>\n",
       "      <td>M</td>\n",
       "      <td>H</td>\n",
       "      <td>STREET</td>\n",
       "      <td>TOBIAS                       AV</td>\n",
       "      <td>NORDHOFF                     ST</td>\n",
       "      <td>{'latitude': '34.2354', 'human_address': '{\"ad...</td>\n",
       "      <td>19730.0</td>\n",
       "    </tr>\n",
       "    <tr>\n",
       "      <th>4</th>\n",
       "      <td>191514323</td>\n",
       "      <td>2019-07-20</td>\n",
       "      <td>2019-07-20 12:00:00</td>\n",
       "      <td>12:00</td>\n",
       "      <td>N Hollywood</td>\n",
       "      <td>1513</td>\n",
       "      <td>27.0</td>\n",
       "      <td>M</td>\n",
       "      <td>W</td>\n",
       "      <td>STREET</td>\n",
       "      <td>SHERMAN                      WY</td>\n",
       "      <td>BELLAIRE                     AV</td>\n",
       "      <td>{'latitude': '34.2012', 'human_address': '{\"ad...</td>\n",
       "      <td>8888.0</td>\n",
       "    </tr>\n",
       "  </tbody>\n",
       "</table>\n",
       "</div>"
      ],
      "text/plain": [
       "   DR Number Date Reported       Date Occurred Time Occurred    Area Name  \\\n",
       "0  191713007    2019-07-20 2019-07-20 10:40:00         10:40   Devonshire   \n",
       "1  191913696    2019-07-20 2019-07-20 08:50:00         08:50      Mission   \n",
       "2  191611704    2019-07-20 2019-07-20 09:10:00         09:10     Foothill   \n",
       "3  191913694    2019-07-20 2019-07-20 07:00:00         07:00      Mission   \n",
       "4  191514323    2019-07-20 2019-07-20 12:00:00         12:00  N Hollywood   \n",
       "\n",
       "   Reporting District  Victim Age Victim Sex Victim Descent  \\\n",
       "0                1788        32.0          F              W   \n",
       "1                1924        50.0          M              O   \n",
       "2                1693        75.0          M              O   \n",
       "3                1964        40.0          M              H   \n",
       "4                1513        27.0          M              W   \n",
       "\n",
       "  Premise Description                          Address  \\\n",
       "0              STREET  BALBOA                       BL   \n",
       "1              STREET  CREST KNOLL                  AV   \n",
       "2              STREET  SATICOY                      ST   \n",
       "3              STREET  TOBIAS                       AV   \n",
       "4              STREET  SHERMAN                      WY   \n",
       "\n",
       "                      Cross Street  \\\n",
       "0  PARTHENIA                    ST   \n",
       "1  EDGECLIFF                    DR   \n",
       "2  LAURELGROVE                  AV   \n",
       "3  NORDHOFF                     ST   \n",
       "4  BELLAIRE                     AV   \n",
       "\n",
       "                                            Location  Zip Codes  \n",
       "0  {'latitude': '34.2285', 'human_address': '{\"ad...    18914.0  \n",
       "1  {'latitude': '34.2905', 'human_address': '{\"ad...    18912.0  \n",
       "2  {'latitude': '34.2085', 'human_address': '{\"ad...     8888.0  \n",
       "3  {'latitude': '34.2354', 'human_address': '{\"ad...    19730.0  \n",
       "4  {'latitude': '34.2012', 'human_address': '{\"ad...     8888.0  "
      ]
     },
     "execution_count": 237,
     "metadata": {},
     "output_type": "execute_result"
    }
   ],
   "source": [
    "cleaned_data.head()"
   ]
  },
  {
   "cell_type": "code",
   "execution_count": 238,
   "metadata": {
    "collapsed": false
   },
   "outputs": [],
   "source": [
    "df = cleaned_data.loc[:,'Date Occurred':'Cross Street']"
   ]
  },
  {
   "cell_type": "code",
   "execution_count": 239,
   "metadata": {
    "collapsed": false
   },
   "outputs": [
    {
     "data": {
      "text/html": [
       "<div>\n",
       "<table border=\"1\" class=\"dataframe\">\n",
       "  <thead>\n",
       "    <tr style=\"text-align: right;\">\n",
       "      <th></th>\n",
       "      <th>Date Occurred</th>\n",
       "      <th>Time Occurred</th>\n",
       "      <th>Area Name</th>\n",
       "      <th>Reporting District</th>\n",
       "      <th>Victim Age</th>\n",
       "      <th>Victim Sex</th>\n",
       "      <th>Victim Descent</th>\n",
       "      <th>Premise Description</th>\n",
       "      <th>Address</th>\n",
       "      <th>Cross Street</th>\n",
       "    </tr>\n",
       "  </thead>\n",
       "  <tbody>\n",
       "    <tr>\n",
       "      <th>0</th>\n",
       "      <td>2019-07-20 10:40:00</td>\n",
       "      <td>10:40</td>\n",
       "      <td>Devonshire</td>\n",
       "      <td>1788</td>\n",
       "      <td>32.0</td>\n",
       "      <td>F</td>\n",
       "      <td>W</td>\n",
       "      <td>STREET</td>\n",
       "      <td>BALBOA                       BL</td>\n",
       "      <td>PARTHENIA                    ST</td>\n",
       "    </tr>\n",
       "    <tr>\n",
       "      <th>1</th>\n",
       "      <td>2019-07-20 08:50:00</td>\n",
       "      <td>08:50</td>\n",
       "      <td>Mission</td>\n",
       "      <td>1924</td>\n",
       "      <td>50.0</td>\n",
       "      <td>M</td>\n",
       "      <td>O</td>\n",
       "      <td>STREET</td>\n",
       "      <td>CREST KNOLL                  AV</td>\n",
       "      <td>EDGECLIFF                    DR</td>\n",
       "    </tr>\n",
       "    <tr>\n",
       "      <th>2</th>\n",
       "      <td>2019-07-20 09:10:00</td>\n",
       "      <td>09:10</td>\n",
       "      <td>Foothill</td>\n",
       "      <td>1693</td>\n",
       "      <td>75.0</td>\n",
       "      <td>M</td>\n",
       "      <td>O</td>\n",
       "      <td>STREET</td>\n",
       "      <td>SATICOY                      ST</td>\n",
       "      <td>LAURELGROVE                  AV</td>\n",
       "    </tr>\n",
       "    <tr>\n",
       "      <th>3</th>\n",
       "      <td>2019-07-20 07:00:00</td>\n",
       "      <td>07:00</td>\n",
       "      <td>Mission</td>\n",
       "      <td>1964</td>\n",
       "      <td>40.0</td>\n",
       "      <td>M</td>\n",
       "      <td>H</td>\n",
       "      <td>STREET</td>\n",
       "      <td>TOBIAS                       AV</td>\n",
       "      <td>NORDHOFF                     ST</td>\n",
       "    </tr>\n",
       "    <tr>\n",
       "      <th>4</th>\n",
       "      <td>2019-07-20 12:00:00</td>\n",
       "      <td>12:00</td>\n",
       "      <td>N Hollywood</td>\n",
       "      <td>1513</td>\n",
       "      <td>27.0</td>\n",
       "      <td>M</td>\n",
       "      <td>W</td>\n",
       "      <td>STREET</td>\n",
       "      <td>SHERMAN                      WY</td>\n",
       "      <td>BELLAIRE                     AV</td>\n",
       "    </tr>\n",
       "  </tbody>\n",
       "</table>\n",
       "</div>"
      ],
      "text/plain": [
       "        Date Occurred Time Occurred    Area Name  Reporting District  \\\n",
       "0 2019-07-20 10:40:00         10:40   Devonshire                1788   \n",
       "1 2019-07-20 08:50:00         08:50      Mission                1924   \n",
       "2 2019-07-20 09:10:00         09:10     Foothill                1693   \n",
       "3 2019-07-20 07:00:00         07:00      Mission                1964   \n",
       "4 2019-07-20 12:00:00         12:00  N Hollywood                1513   \n",
       "\n",
       "   Victim Age Victim Sex Victim Descent Premise Description  \\\n",
       "0        32.0          F              W              STREET   \n",
       "1        50.0          M              O              STREET   \n",
       "2        75.0          M              O              STREET   \n",
       "3        40.0          M              H              STREET   \n",
       "4        27.0          M              W              STREET   \n",
       "\n",
       "                           Address                     Cross Street  \n",
       "0  BALBOA                       BL  PARTHENIA                    ST  \n",
       "1  CREST KNOLL                  AV  EDGECLIFF                    DR  \n",
       "2  SATICOY                      ST  LAURELGROVE                  AV  \n",
       "3  TOBIAS                       AV  NORDHOFF                     ST  \n",
       "4  SHERMAN                      WY  BELLAIRE                     AV  "
      ]
     },
     "execution_count": 239,
     "metadata": {},
     "output_type": "execute_result"
    }
   ],
   "source": [
    "df.head()"
   ]
  },
  {
   "cell_type": "code",
   "execution_count": 240,
   "metadata": {
    "collapsed": true
   },
   "outputs": [],
   "source": [
    "df = df.set_index('Date Occurred')"
   ]
  },
  {
   "cell_type": "code",
   "execution_count": 241,
   "metadata": {
    "collapsed": false
   },
   "outputs": [],
   "source": [
    "table = pd.crosstab(df['Premise Description'],df['Victim Sex']).sort_values(by=['F','M','X'],ascending=False)\n",
    "table['M'] = table['M'].apply(lambda x: x/table['M'].sum())\n",
    "table['F'] = table['F'].apply(lambda x: x/table['F'].sum())\n",
    "table['X'] = table['X'].apply(lambda x: x/table['X'].sum())"
   ]
  },
  {
   "cell_type": "code",
   "execution_count": 242,
   "metadata": {
    "collapsed": false
   },
   "outputs": [
    {
     "data": {
      "text/plain": [
       "<matplotlib.figure.Figure at 0x18a241bc5f8>"
      ]
     },
     "metadata": {},
     "output_type": "display_data"
    },
    {
     "data": {
      "image/png": "[encoded data removed]",
      "text/plain": [
       "<matplotlib.figure.Figure at 0x18a241f81d0>"
      ]
     },
     "metadata": {},
     "output_type": "display_data"
    }
   ],
   "source": [
    "plt.figure(figsize=(12,10))\n",
    "table[0:3].plot(kind='bar')\n",
    "plt.ylabel('Victim Sex')\n",
    "plt.show()"
   ]
  },
  {
   "cell_type": "code",
   "execution_count": 271,
   "metadata": {
    "collapsed": false
   },
   "outputs": [],
   "source": [
    "mapping = {}\n",
    "for i in range(5):\n",
    "    mapping[i] = 'Night'\n",
    "for i in range(5,13):\n",
    "    mapping[i] = 'Morning'\n",
    "for i in range(13,18):\n",
    "    mapping[i] = 'Afternoon'\n",
    "for i in range(18,24):\n",
    "    mapping[i] = 'Evening'\n",
    "    "
   ]
  },
  {
   "cell_type": "code",
   "execution_count": 404,
   "metadata": {
    "collapsed": false
   },
   "outputs": [],
   "source": [
    "victim_per_hour = df.groupby(df.index.hour)['Victim Sex'].value_counts()"
   ]
  },
  {
   "cell_type": "code",
   "execution_count": 405,
   "metadata": {
    "collapsed": true
   },
   "outputs": [],
   "source": [
    "def mapping_day(victim):\n",
    "    mapping = {'Night':0,'Morning':0,'Afternoon':0,'Evening':0}\n",
    "    for i in range(5):\n",
    "        mapping['Night'] = mapping['Night'] + victim[i]\n",
    "    for i in range(5,13):\n",
    "        mapping['Morning'] = mapping['Morning'] + victim[i]\n",
    "    for i in range(13,18):\n",
    "        mapping['Afternoon'] = mapping['Afternoon'] + victim[i]\n",
    "    for i in range(18,24):\n",
    "        mapping['Evening'] = mapping['Evening'] + victim[i]\n",
    "    return mapping"
   ]
  },
  {
   "cell_type": "code",
   "execution_count": 406,
   "metadata": {
    "collapsed": false
   },
   "outputs": [],
   "source": [
    "victim_hour_gender = pd.DataFrame(mapping_day(victim_per_hour))"
   ]
  },
  {
   "cell_type": "code",
   "execution_count": 407,
   "metadata": {
    "collapsed": false
   },
   "outputs": [
    {
     "data": {
      "text/html": [
       "<div>\n",
       "<table border=\"1\" class=\"dataframe\">\n",
       "  <thead>\n",
       "    <tr style=\"text-align: right;\">\n",
       "      <th></th>\n",
       "      <th>Afternoon</th>\n",
       "      <th>Evening</th>\n",
       "      <th>Morning</th>\n",
       "      <th>Night</th>\n",
       "    </tr>\n",
       "    <tr>\n",
       "      <th>Victim Sex</th>\n",
       "      <th></th>\n",
       "      <th></th>\n",
       "      <th></th>\n",
       "      <th></th>\n",
       "    </tr>\n",
       "  </thead>\n",
       "  <tbody>\n",
       "    <tr>\n",
       "      <th>M</th>\n",
       "      <td>80901</td>\n",
       "      <td>76794</td>\n",
       "      <td>81373</td>\n",
       "      <td>29654</td>\n",
       "    </tr>\n",
       "    <tr>\n",
       "      <th>F</th>\n",
       "      <td>58948</td>\n",
       "      <td>46049</td>\n",
       "      <td>57386</td>\n",
       "      <td>11996</td>\n",
       "    </tr>\n",
       "    <tr>\n",
       "      <th>X</th>\n",
       "      <td>4216</td>\n",
       "      <td>4564</td>\n",
       "      <td>4676</td>\n",
       "      <td>3059</td>\n",
       "    </tr>\n",
       "  </tbody>\n",
       "</table>\n",
       "</div>"
      ],
      "text/plain": [
       "            Afternoon  Evening  Morning  Night\n",
       "Victim Sex                                    \n",
       "M               80901    76794    81373  29654\n",
       "F               58948    46049    57386  11996\n",
       "X                4216     4564     4676   3059"
      ]
     },
     "execution_count": 407,
     "metadata": {},
     "output_type": "execute_result"
    }
   ],
   "source": [
    "victim_hour_gender"
   ]
  },
  {
   "cell_type": "code",
   "execution_count": 302,
   "metadata": {
    "collapsed": false
   },
   "outputs": [
    {
     "data": {
      "image/png": "[encoded data removed]",
      "text/plain": [
       "<matplotlib.figure.Figure at 0x18a25488e80>"
      ]
     },
     "metadata": {},
     "output_type": "display_data"
    },
    {
     "data": {
      "image/png": "[encoded data removed]",
      "text/plain": [
       "<matplotlib.figure.Figure at 0x18a25488cc0>"
      ]
     },
     "metadata": {},
     "output_type": "display_data"
    }
   ],
   "source": [
    "victim_hour_gender.plot(kind='bar',stacked=True)\n",
    "plt.ylabel('Number of Victims')\n",
    "plt.xlabel('Victim Gender')\n",
    "victim_hour_gender.plot(kind='bar')\n",
    "plt.ylabel('Number of Victims')\n",
    "plt.xlabel('Victim Gender')\n",
    "plt.show()"
   ]
  },
  {
   "cell_type": "code",
   "execution_count": 408,
   "metadata": {
    "collapsed": false
   },
   "outputs": [],
   "source": [
    "victim_per_hour = df.groupby(df.index.hour)['Area Name'].value_counts()"
   ]
  },
  {
   "cell_type": "code",
   "execution_count": 409,
   "metadata": {
    "collapsed": true
   },
   "outputs": [],
   "source": [
    "victim_hour_area = pd.DataFrame(mapping_day(victim_per_hour))"
   ]
  },
  {
   "cell_type": "code",
   "execution_count": 410,
   "metadata": {
    "collapsed": false
   },
   "outputs": [
    {
     "data": {
      "image/png": "[encoded data removed]",
      "text/plain": [
       "<matplotlib.figure.Figure at 0x18a254989b0>"
      ]
     },
     "metadata": {},
     "output_type": "display_data"
    }
   ],
   "source": [
    "victim_hour_area.sort_values(by=['Afternoon','Evening','Morning','Night']).plot(kind='barh',stacked=True,figsize=(12,8))\n",
    "plt.xlabel('Number of Victims')\n",
    "plt.ylabel('Area Name')\n",
    "plt.show()"
   ]
  },
  {
   "cell_type": "code",
   "execution_count": 436,
   "metadata": {
    "collapsed": false
   },
   "outputs": [],
   "source": [
    "df['Age'] = pd.DataFrame({'Age':[' ' for i in range(len(df))]})"
   ]
  },
  {
   "cell_type": "code",
   "execution_count": 440,
   "metadata": {
    "collapsed": false
   },
   "outputs": [],
   "source": [
    "df.loc[(df['Victim Age']>0) & (df['Victim Age']<15),'Age'] = 'Children'\n",
    "df.loc[(df['Victim Age']>=15) & (df['Victim Age']<25),'Age'] = 'Youth'\n",
    "df.loc[(df['Victim Age']>=25) & (df['Victim Age']<45),'Age'] = 'Adult'\n",
    "df.loc[(df['Victim Age']>=45),'Age'] = 'Old'"
   ]
  },
  {
   "cell_type": "code",
   "execution_count": 446,
   "metadata": {
    "collapsed": false
   },
   "outputs": [
    {
     "data": {
      "text/plain": [
       "array(['Adult', 'Old', 'Youth', 'Children'], dtype=object)"
      ]
     },
     "execution_count": 446,
     "metadata": {},
     "output_type": "execute_result"
    }
   ],
   "source": [
    "df['Age'].unique()"
   ]
  },
  {
   "cell_type": "code",
   "execution_count": 399,
   "metadata": {
    "collapsed": false,
    "scrolled": true
   },
   "outputs": [
    {
     "data": {
      "text/html": [
       "<div>\n",
       "<table border=\"1\" class=\"dataframe\">\n",
       "  <thead>\n",
       "    <tr style=\"text-align: right;\">\n",
       "      <th></th>\n",
       "      <th>Time Occurred</th>\n",
       "      <th>Area Name</th>\n",
       "      <th>Reporting District</th>\n",
       "      <th>Victim Age</th>\n",
       "      <th>Victim Sex</th>\n",
       "      <th>Victim Descent</th>\n",
       "      <th>Premise Description</th>\n",
       "      <th>Address</th>\n",
       "      <th>Cross Street</th>\n",
       "      <th>Age</th>\n",
       "    </tr>\n",
       "    <tr>\n",
       "      <th>Date Occurred</th>\n",
       "      <th></th>\n",
       "      <th></th>\n",
       "      <th></th>\n",
       "      <th></th>\n",
       "      <th></th>\n",
       "      <th></th>\n",
       "      <th></th>\n",
       "      <th></th>\n",
       "      <th></th>\n",
       "      <th></th>\n",
       "    </tr>\n",
       "  </thead>\n",
       "  <tbody>\n",
       "    <tr>\n",
       "      <th>2019-07-20 10:40:00</th>\n",
       "      <td>10:40</td>\n",
       "      <td>Devonshire</td>\n",
       "      <td>1788</td>\n",
       "      <td>32.0</td>\n",
       "      <td>F</td>\n",
       "      <td>W</td>\n",
       "      <td>STREET</td>\n",
       "      <td>BALBOA                       BL</td>\n",
       "      <td>PARTHENIA                    ST</td>\n",
       "      <td>Adult</td>\n",
       "    </tr>\n",
       "    <tr>\n",
       "      <th>2019-07-20 08:50:00</th>\n",
       "      <td>08:50</td>\n",
       "      <td>Mission</td>\n",
       "      <td>1924</td>\n",
       "      <td>50.0</td>\n",
       "      <td>M</td>\n",
       "      <td>O</td>\n",
       "      <td>STREET</td>\n",
       "      <td>CREST KNOLL                  AV</td>\n",
       "      <td>EDGECLIFF                    DR</td>\n",
       "      <td>Old</td>\n",
       "    </tr>\n",
       "    <tr>\n",
       "      <th>2019-07-20 09:10:00</th>\n",
       "      <td>09:10</td>\n",
       "      <td>Foothill</td>\n",
       "      <td>1693</td>\n",
       "      <td>75.0</td>\n",
       "      <td>M</td>\n",
       "      <td>O</td>\n",
       "      <td>STREET</td>\n",
       "      <td>SATICOY                      ST</td>\n",
       "      <td>LAURELGROVE                  AV</td>\n",
       "      <td>Old</td>\n",
       "    </tr>\n",
       "    <tr>\n",
       "      <th>2019-07-20 07:00:00</th>\n",
       "      <td>07:00</td>\n",
       "      <td>Mission</td>\n",
       "      <td>1964</td>\n",
       "      <td>40.0</td>\n",
       "      <td>M</td>\n",
       "      <td>H</td>\n",
       "      <td>STREET</td>\n",
       "      <td>TOBIAS                       AV</td>\n",
       "      <td>NORDHOFF                     ST</td>\n",
       "      <td>Adult</td>\n",
       "    </tr>\n",
       "    <tr>\n",
       "      <th>2019-07-20 12:00:00</th>\n",
       "      <td>12:00</td>\n",
       "      <td>N Hollywood</td>\n",
       "      <td>1513</td>\n",
       "      <td>27.0</td>\n",
       "      <td>M</td>\n",
       "      <td>W</td>\n",
       "      <td>STREET</td>\n",
       "      <td>SHERMAN                      WY</td>\n",
       "      <td>BELLAIRE                     AV</td>\n",
       "      <td>Adult</td>\n",
       "    </tr>\n",
       "  </tbody>\n",
       "</table>\n",
       "</div>"
      ],
      "text/plain": [
       "                    Time Occurred    Area Name  Reporting District  \\\n",
       "Date Occurred                                                        \n",
       "2019-07-20 10:40:00         10:40   Devonshire                1788   \n",
       "2019-07-20 08:50:00         08:50      Mission                1924   \n",
       "2019-07-20 09:10:00         09:10     Foothill                1693   \n",
       "2019-07-20 07:00:00         07:00      Mission                1964   \n",
       "2019-07-20 12:00:00         12:00  N Hollywood                1513   \n",
       "\n",
       "                     Victim Age Victim Sex Victim Descent Premise Description  \\\n",
       "Date Occurred                                                                   \n",
       "2019-07-20 10:40:00        32.0          F              W              STREET   \n",
       "2019-07-20 08:50:00        50.0          M              O              STREET   \n",
       "2019-07-20 09:10:00        75.0          M              O              STREET   \n",
       "2019-07-20 07:00:00        40.0          M              H              STREET   \n",
       "2019-07-20 12:00:00        27.0          M              W              STREET   \n",
       "\n",
       "                                             Address  \\\n",
       "Date Occurred                                          \n",
       "2019-07-20 10:40:00  BALBOA                       BL   \n",
       "2019-07-20 08:50:00  CREST KNOLL                  AV   \n",
       "2019-07-20 09:10:00  SATICOY                      ST   \n",
       "2019-07-20 07:00:00  TOBIAS                       AV   \n",
       "2019-07-20 12:00:00  SHERMAN                      WY   \n",
       "\n",
       "                                        Cross Street    Age  \n",
       "Date Occurred                                                \n",
       "2019-07-20 10:40:00  PARTHENIA                    ST  Adult  \n",
       "2019-07-20 08:50:00  EDGECLIFF                    DR    Old  \n",
       "2019-07-20 09:10:00  LAURELGROVE                  AV    Old  \n",
       "2019-07-20 07:00:00  NORDHOFF                     ST  Adult  \n",
       "2019-07-20 12:00:00  BELLAIRE                     AV  Adult  "
      ]
     },
     "execution_count": 399,
     "metadata": {},
     "output_type": "execute_result"
    }
   ],
   "source": [
    "df.head()"
   ]
  },
  {
   "cell_type": "code",
   "execution_count": 451,
   "metadata": {
    "collapsed": false
   },
   "outputs": [],
   "source": [
    "victim_per_hour = df.groupby(df.index.hour)['Age'].value_counts()"
   ]
  },
  {
   "cell_type": "code",
   "execution_count": 448,
   "metadata": {
    "collapsed": true
   },
   "outputs": [],
   "source": [
    "victim_age_hour = pd.DataFrame(mapping_day(victim_per_hour))"
   ]
  },
  {
   "cell_type": "code",
   "execution_count": 454,
   "metadata": {
    "collapsed": false
   },
   "outputs": [
    {
     "data": {
      "text/html": [
       "<div>\n",
       "<table border=\"1\" class=\"dataframe\">\n",
       "  <thead>\n",
       "    <tr style=\"text-align: right;\">\n",
       "      <th></th>\n",
       "      <th>Afternoon</th>\n",
       "      <th>Evening</th>\n",
       "      <th>Morning</th>\n",
       "      <th>Night</th>\n",
       "    </tr>\n",
       "  </thead>\n",
       "  <tbody>\n",
       "    <tr>\n",
       "      <th>Adult</th>\n",
       "      <td>77917</td>\n",
       "      <td>74478.0</td>\n",
       "      <td>77384.0</td>\n",
       "      <td>29328.0</td>\n",
       "    </tr>\n",
       "    <tr>\n",
       "      <th>Children</th>\n",
       "      <td>17</td>\n",
       "      <td>NaN</td>\n",
       "      <td>NaN</td>\n",
       "      <td>NaN</td>\n",
       "    </tr>\n",
       "    <tr>\n",
       "      <th>Old</th>\n",
       "      <td>50272</td>\n",
       "      <td>36655.0</td>\n",
       "      <td>52387.0</td>\n",
       "      <td>9876.0</td>\n",
       "    </tr>\n",
       "    <tr>\n",
       "      <th>Youth</th>\n",
       "      <td>15859</td>\n",
       "      <td>16266.0</td>\n",
       "      <td>13652.0</td>\n",
       "      <td>5505.0</td>\n",
       "    </tr>\n",
       "  </tbody>\n",
       "</table>\n",
       "</div>"
      ],
      "text/plain": [
       "          Afternoon  Evening  Morning    Night\n",
       "Adult         77917  74478.0  77384.0  29328.0\n",
       "Children         17      NaN      NaN      NaN\n",
       "Old           50272  36655.0  52387.0   9876.0\n",
       "Youth         15859  16266.0  13652.0   5505.0"
      ]
     },
     "execution_count": 454,
     "metadata": {},
     "output_type": "execute_result"
    }
   ],
   "source": [
    "victim_age_hour.head()"
   ]
  },
  {
   "cell_type": "code",
   "execution_count": 455,
   "metadata": {
    "collapsed": true
   },
   "outputs": [],
   "source": [
    "victim_age_hour = victim_age_hour.fillna(0)"
   ]
  },
  {
   "cell_type": "code",
   "execution_count": 457,
   "metadata": {
    "collapsed": false
   },
   "outputs": [
    {
     "data": {
      "image/png": "[encoded data removed]",
      "text/plain": [
       "<matplotlib.figure.Figure at 0x18a241d5940>"
      ]
     },
     "metadata": {},
     "output_type": "display_data"
    }
   ],
   "source": [
    "victim_age_hour.sort_values(by=['Afternoon','Evening','Morning','Night']).plot(kind='bar',stacked=True,figsize=(12,8))\n",
    "plt.xlabel('Number of Victims')\n",
    "plt.ylabel('Age')\n",
    "plt.show()"
   ]
  },
  {
   "cell_type": "code",
   "execution_count": 461,
   "metadata": {
    "collapsed": false
   },
   "outputs": [
    {
     "data": {
      "image/png": "[encoded data removed]",
      "text/plain": [
       "<matplotlib.figure.Figure at 0x18a23a47518>"
      ]
     },
     "metadata": {},
     "output_type": "display_data"
    }
   ],
   "source": [
    "victim_age_hour.loc['Children'].plot(kind='bar')\n",
    "plt.show()"
   ]
  },
  {
   "cell_type": "markdown",
   "metadata": {},
   "source": [
    "#### Kesimpulan:\n",
    "1. Paling banyak kecelakaan terjadi pada STREET (jalanan) dengan persentase ~90%\n",
    "2. Korban paling banyak adalah laki-laki\n",
    "3. Urutan terbanyak kecelakaan adalah afternoon, morning, evening, night\n",
    "4. 3 area paling banyak terjadi kecelakaan adalah 77th Street, Southwest, Wilshire\n",
    "5. Paling banyak mengalami kecelakaan adalah orang dewasa (adult), masuk akal karena paling banyak beraktivitas dibanding yang lain"
   ]
  },
  {
   "cell_type": "code",
   "execution_count": null,
   "metadata": {
    "collapsed": true
   },
   "outputs": [],
   "source": []
  }
 ],
 "metadata": {
  "kernelspec": {
   "display_name": "Python 3",
   "language": "python",
   "name": "python3"
  },
  "language_info": {
   "codemirror_mode": {
    "name": "ipython",
    "version": 3
   },
   "file_extension": ".py",
   "mimetype": "text/x-python",
   "name": "python",
   "nbconvert_exporter": "python",
   "pygments_lexer": "ipython3",
   "version": "3.6.0"
  }
 },
 "nbformat": 4,
 "nbformat_minor": 2
}
